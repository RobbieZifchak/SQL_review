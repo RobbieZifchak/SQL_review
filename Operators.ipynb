{
 "cells": [
  {
   "cell_type": "markdown",
   "metadata": {},
   "source": [
    "## SQL Operators"
   ]
  },
  {
   "cell_type": "markdown",
   "metadata": {},
   "source": [
    "### Arithmetic Operators\n",
    "\n",
    "| Operator | Description|\n",
    "| --- | --- |\n",
    "| + (Addition) | Adds values on either side of the operator. | \n",
    "| - (Subtraction) | Subtracts right hand operand from left hand operand. |\n",
    "| * (Multiplication) | Multiplies values on either side of the operator. | \n",
    "| / (Division) | Divides left hand operand by right hand operand. |\n",
    "| % (Modulus) | Divides left hand operand by right hand operand and returns  remainder. | "
   ]
  },
  {
   "cell_type": "markdown",
   "metadata": {},
   "source": [
    "### Comparison Operators"
   ]
  },
  {
   "cell_type": "markdown",
   "metadata": {},
   "source": [
    "| Operator | Description|\n",
    "| --- | --- |\n",
    "| = | Checks if the values of two operands are equal or not, if yes then condition becomes true. | \n",
    "| != | Checks if the values of two operands are equal or not, if values are not equal then condition becomes true. |\n",
    "| <> | Checks if the values of two operands are equal or not, if values are not equal then condition becomes true. |\n",
    "| > | Checks if the value of the left operand is greater than the value of right operand, if yes then the condition becomes true. |\n",
    "| < | Checks if the value of the left operand is less than the value of the right operand, if yes then the condition becomes true. |\n",
    "|  >= | Checks if the value of left operand is greater than or equal to the value of right operand, if yes then condition becomes true. |\n",
    "| <= | Checks if the value of left operand is less than or equal to the value of right operand, if yes then condition becomes true. |\n",
    "| !< | Checks if the value of left operand is not less than the value of right operand, if yes then condition becomes true. | \n",
    "| !> | Checks if the value of left operand is not greater than the value of right operand, if yes then condition becomes true. | "
   ]
  },
  {
   "cell_type": "markdown",
   "metadata": {},
   "source": [
    "### Logical Operators"
   ]
  },
  {
   "cell_type": "markdown",
   "metadata": {},
   "source": [
    "| Operator | Description | \n",
    "| --- | --- |\n",
    "| ALL | The ALL operator is used to compare a value to all values in another value set. | \n",
    "| AND | The AND operator allows the existence of multiple conditions in an SQL statement's WHERE clause. |\n",
    "| ANY | The ANY operator is used to compare a value to any applicable value in the list as per the condition. |\n",
    "| BETWEEN | The BETWEEN operator is used to search for values that are within a set of values, given the minimum value and the maximum value. | \n",
    "| EXISTS | The EXISTS operator is used to search for the presence of a row in a specified table that meets a certain criterion. | \n",
    "| IN | The IN operator is used to compare a value to a list of literal values that have been specified. |\n",
    "| LIKE | The LIKE operator is used to compare a value to similar values using wildcard operators. |\n",
    "| NOT | The NOT operator reverses the meaning of the logical operator with which it is used. Eg: NOT EXISTS, NOT BETWEEN, NOT IN, etc. This is a negate operator. |\n",
    "| OR | The OR operator is used to combine multiple conditions in an SQL statement's WHERE clause. |\n",
    "| IS NULL | The NULL operator is used to compare a value with a NULL value. | \n",
    "| UNIQUE | The UNIQUE operator searches every row of a specified table for uniqueness (no duplicates). |"
   ]
  },
  {
   "cell_type": "markdown",
   "metadata": {},
   "source": [
    "ref: https://www.tutorialspoint.com/sql/sql-operators.htm"
   ]
  },
  {
   "cell_type": "markdown",
   "metadata": {},
   "source": [
    "### Bitwise Operators"
   ]
  },
  {
   "cell_type": "markdown",
   "metadata": {},
   "source": [
    "| Operator | Description | \n",
    "| --- | --- |\n",
    "| & | Bitwise AND |\n",
    "| I (pipe)  | Bitwise OR | \n",
    "| ^ | Bitwise exclusive OR | "
   ]
  },
  {
   "cell_type": "markdown",
   "metadata": {},
   "source": [
    "### Compound Operators "
   ]
  },
  {
   "cell_type": "code",
   "execution_count": null,
   "metadata": {},
   "outputs": [],
   "source": [
    "  \n",
    "| Operator | Description | \n",
    "| --- | --- | \n",
    "| += | Add equals |\n",
    "| -= | Subtract equals |\n",
    "| *= | Multiply equals |\n",
    "| /= | Divide equals |\n",
    "| %= | Modulo equals |\n",
    "| &= | Bitwise AND equals |\n",
    "| ^-= | Bitwise exclusive equals | \n",
    "| *= | Bitwise OR equals | \n"
   ]
  },
  {
   "cell_type": "code",
   "execution_count": null,
   "metadata": {},
   "outputs": [],
   "source": []
  }
 ],
 "metadata": {
  "kernelspec": {
   "display_name": "Python 3",
   "language": "python",
   "name": "python3"
  },
  "language_info": {
   "codemirror_mode": {
    "name": "ipython",
    "version": 3
   },
   "file_extension": ".py",
   "mimetype": "text/x-python",
   "name": "python",
   "nbconvert_exporter": "python",
   "pygments_lexer": "ipython3",
   "version": "3.7.4"
  }
 },
 "nbformat": 4,
 "nbformat_minor": 4
}
